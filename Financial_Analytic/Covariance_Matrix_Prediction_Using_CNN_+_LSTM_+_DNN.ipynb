{
  "nbformat": 4,
  "nbformat_minor": 0,
  "metadata": {
    "colab": {
      "provenance": []
    },
    "kernelspec": {
      "name": "python3",
      "display_name": "Python 3"
    },
    "language_info": {
      "name": "python"
    }
  },
  "cells": [
    {
      "cell_type": "markdown",
      "source": [
        "# Covariance Matrix Prediction Using CNN + LSTM + DNN\n",
        "\n",
        "Students names who have written this code: Prakhar Chaurasia,Vinay Chowdhary, Vinayak Sonkaramble (2021-22 Data science batch at NISM)\n",
        "\n",
        "\n",
        "\n"
      ],
      "metadata": {
        "id": "3dBvyyLbuchJ"
      }
    },
    {
      "cell_type": "markdown",
      "source": [
        "**Problem Statement** - Prediction of Var-Cov matrix of any selected portfolio\n",
        "\n",
        "**Introduction:**\n",
        " Objective of this assignment is to predict VAR-COV matrix of any selected portfolio using Neural Networks architecture.\n",
        " Below mentioned analysis is done to predict next day VAR-COV matrix considering past 22 years daily returns data. This model can be further extended to predict entire months VAR-COV matrix.\n",
        "\n",
        " **Data Sets:**\n",
        "  ProwessIQ database was used to download data of Nifty50 stocks of around 22 years. i.e. starting from 03-Jan-2000 to 22-Jul-2022.\n",
        "  As part of data pre-processing, stock prices are converted to daily returns format.\n",
        "  Data is split into training (80%) and testing (20%).\n",
        "  Data is maintained in timeseries and is not shuffled.\n",
        "  X is input of the architecture which is 250 days daily returns data.\n",
        "  Y is nothing but calculated VAR-COV matrix for 251st day. Hence this model is a supervised regression model. As it is predicting 251st VAR-COV matrix with input of historical 250 days daily returns.\n",
        "\n",
        "  $X \\to \\text{250 days daily return}$\n",
        "\n",
        "  $Y\\to \\text{Var-Covar Matrix for 251$^{st}$ day}$\n",
        "\n",
        "  **Architecture:**\n",
        "  1. Input stock data in daily returns format was passed to Initial layer of Neural Networks. This initial layer is formed using **CNN (Convolutional Neural Network).** This layer extracts prominent features from input timeseries data. ***RELU*** activation function is used in the layer.\n",
        "  2. Features extracted during initial layer are passed to subsequent layer of the architecture. This layer consists of 2 **LSTM layers (Long Short Term Memory)**. ***Tanh*** is the activation function used here.\n",
        "  3. Finally output of LSTM layer is passed to **DNN (Deep Neural Network)** with 32 hidden units to learn hidden pattern in the data set and help improve prediction accuracy. ***Tanh*** is the activation function used here.\n",
        "  4. **Loss function** for the model is ***Mean Squared Error***.\n",
        "\n",
        "\n",
        "**Comments:**\n",
        "    As seen in the graph below, **loss function** is reduced from **0.0866** to **0.0049.**\n",
        "    ![image.png](data:image/png;base64,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)\n",
        "\n",
        "```\n",
        "Predicted:\n",
        "[[[0.69391525 0.10502066 0.04984848]\n",
        "  [0.10502063 0.51633817 0.05879535]\n",
        "  [0.04984848 0.05879534 0.29109767]]]\n",
        "\n",
        "Actual:\n",
        "[[[0.64716411 0.10389654 0.0723354 ]\n",
        "  [0.10389654 0.31389394 0.09408829]\n",
        "  [0.0723354  0.09408829 0.2673088 ]]]\n",
        "```\n",
        "\n"
      ],
      "metadata": {
        "id": "eeLWegBjmwXW"
      }
    },
    {
      "cell_type": "code",
      "source": [
        "# Importing libraries\n",
        "import numpy as np\n",
        "import pandas as pd\n",
        "import tensorflow as tf\n",
        "from tensorflow import keras\n",
        "from keras.models import Sequential\n",
        "from keras.layers import Dense, Dropout, LSTM, Flatten, Reshape, TimeDistributed, Conv2D, MaxPooling2D, Conv1D, MaxPooling1D\n",
        "import matplotlib.pyplot as plt\n",
        "%matplotlib inline\n",
        "\n",
        "# Data from for 22 Years\n",
        "!wget -O nifty_data.csv https://drive.google.com/uc?id=1rTI-ZcI2PiwGSKchh4krpzvcgUzUK-WW&export=download\n",
        "\n",
        "data = pd.read_csv('nifty_data.csv', parse_dates={'dt':['Slot Date']}, index_col='dt', na_values=[' '],dtype=np.float64)\n",
        "\n",
        "# Those stocks that are present in NIFTY50 ever since 2000.\n",
        "stocks_of_interest = []\n",
        "for col in data.columns:\n",
        "  if data[col].isna().sum() < 7:\n",
        "    stocks_of_interest.append(col)\n",
        "\n",
        "stocks = data[stocks_of_interest].copy()\n",
        "stocks.fillna(method='bfill', inplace=True)\n",
        "stocks_daily_return = stocks.pct_change()\n",
        "stocks_daily_return.dropna(inplace=True)\n",
        "\n",
        "# Our portfolio choice\n",
        "p = ['Apollo Hospitals Enterprise Ltd.', 'Shree Cement Ltd.', 'Dr. Reddy\\'S Laboratories Ltd.'] #, 'State Bank Of India'] #, 'Wipro Ltd.']\n",
        "portfolio = stocks_daily_return[p].copy()\n",
        "portfolio_closing = stocks[p].iloc[1:].copy()\n",
        "\n",
        "# Data preparation for model\n",
        "X_temp = []\n",
        "y_temp = []\n",
        "days = 250\n",
        "d = portfolio.shape[0]\n",
        "for n in range(d-days+1):\n",
        "  r_x = portfolio.iloc[n:n+days].values # [0: 250] 250 days\n",
        "  r_y = portfolio.iloc[n+1:n+days+1].values # [1: 251] 250 days\n",
        "  c = np.cov(r_y.T) # Var-Covar for 251th day\n",
        "  X_temp.append(r_x)\n",
        "  y_temp.append(c*1000)\n",
        "X = np.array(X_temp)\n",
        "y = np.array(y_temp)\n",
        "\n",
        "# Splititng data into train and test\n",
        "X_train = X[:round(X.shape[0]*0.8)].copy()\n",
        "y_train = y[:round(X.shape[0]*0.8)].copy()\n",
        "X_test = X[round(X.shape[0]*0.8):].copy()\n",
        "y_test = y[round(X.shape[0]*0.8):].copy()\n",
        "\n",
        "# CNN + RNN + DNN model\n",
        "model_cnn_lstm = Sequential()\n",
        "model_cnn_lstm.add(Conv1D(64, 3, activation='relu', input_shape=(X_train.shape[1], X_train.shape[2])))\n",
        "model_cnn_lstm.add(MaxPooling1D(pool_size=2))\n",
        "model_cnn_lstm.add(LSTM(units = 16, return_sequences = True))\n",
        "model_cnn_lstm.add(Dropout(0.2))\n",
        "model_cnn_lstm.add(LSTM(units = 16, return_sequences = False))\n",
        "model_cnn_lstm.add(Dropout(0.2))\n",
        "model_cnn_lstm.add(Dense(32, activation=tf.keras.activations.tanh))\n",
        "model_cnn_lstm.add(Dropout(0.2))\n",
        "model_cnn_lstm.add(Dense((y.shape[1]*y.shape[2])))\n",
        "model_cnn_lstm.add(Reshape((y.shape[1], y.shape[2])))\n",
        "model_cnn_lstm.summary()\n",
        "\n",
        "model_cnn_lstm.compile(optimizer='adam', loss='mse', metrics=['mae'])\n",
        "history_cnn_lstm = model_cnn_lstm.fit(X_train, y_train, epochs=10) # Change epochs to 100\n",
        "\n",
        "model_cnn_lstm.evaluate(X_test, y_test)\n",
        "\n",
        "print(f'\\nPredicted:\\n{model_cnn_lstm.predict(X_test[-1:])}')\n",
        "print(f'\\nActual:\\n{y_test[-1:]}')"
      ],
      "metadata": {
        "id": "xpet_PRGub8b"
      },
      "execution_count": null,
      "outputs": []
    },
    {
      "cell_type": "code",
      "source": [
        "plt.figure(figsize=(8,5))\n",
        "plt.plot(history_cnn_lstm.history['loss'], label='Loss')\n",
        "plt.xlabel('Epoch')\n",
        "plt.ylabel('Loss')\n",
        "plt.legend()\n",
        "plt.title('CNN + RNN + DNN')\n",
        "plt.show()"
      ],
      "metadata": {
        "id": "qPG2rZ_AzqJy"
      },
      "execution_count": null,
      "outputs": []
    }
  ]
}