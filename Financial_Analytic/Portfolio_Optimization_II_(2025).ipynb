{
  "nbformat": 4,
  "nbformat_minor": 0,
  "metadata": {
    "colab": {
      "provenance": [],
      "authorship_tag": "ABX9TyOH7TcgH2BBGmMmCyrKBqiY",
      "include_colab_link": true
    },
    "kernelspec": {
      "name": "python3",
      "display_name": "Python 3"
    },
    "language_info": {
      "name": "python"
    }
  },
  "cells": [
    {
      "cell_type": "markdown",
      "metadata": {
        "id": "view-in-github",
        "colab_type": "text"
      },
      "source": [
        "<a href=\"https://colab.research.google.com/github/data4class/Teaching/blob/main/Financial_Analytic/Portfolio_Optimization_II_(2025).ipynb\" target=\"_parent\"><img src=\"https://colab.research.google.com/assets/colab-badge.svg\" alt=\"Open In Colab\"/></a>"
      ]
    },
    {
      "cell_type": "code",
      "source": [
        "import yfinance as yf\n",
        "import pandas as pd\n",
        "import numpy as np\n",
        "import time\n",
        "\n",
        "# Define stock symbols\n",
        "stocks = ['RELIANCE.NS', 'INFY.NS', 'ADANIPORTS.NS', 'POWERGRID.NS', 'SBIN.NS'] # Add '^CRSLDX' for index NIFTY 500 data for CAPM model\n",
        "\n",
        "# Download data for each stock individually\n",
        "all_prices = []\n",
        "all_returns = []\n",
        "\n",
        "for stock in stocks:\n",
        "        ticker = yf.Ticker(stock)\n",
        "        hist = ticker.history(period='5y')\n",
        "\n",
        "        # Extract close prices\n",
        "        prices = hist['Close'].dropna()\n",
        "\n",
        "        # Calculate daily returns\n",
        "        returns = prices.pct_change().dropna()\n",
        "\n",
        "        all_prices.append(prices.tolist())\n",
        "        all_returns.append(returns.tolist())\n",
        "\n",
        "        print(f\"Downloaded {stock}: {len(prices)} days, {len(returns)} returns\")\n",
        "\n",
        "        # Small delay to be respectful to the API\n",
        "        time.sleep(0.1)\n",
        "\n",
        "# Create DataFrame for easier analysis\n",
        "returns_df = pd.DataFrame()\n",
        "prices_df = pd.DataFrame()\n",
        "for i, stock in enumerate(stocks):\n",
        "    if i < len(all_returns):\n",
        "        # Align all return and price series by date\n",
        "        returns_df[stock] = pd.Series(all_returns[i])\n",
        "        prices_df[stock] = pd.Series(all_prices[i])\n"
      ],
      "metadata": {
        "id": "nMB5bmxhE3dB"
      },
      "execution_count": null,
      "outputs": []
    },
    {
      "cell_type": "code",
      "source": [
        "import numpy as np\n",
        "\n",
        "# Risk and return of portfolio\n",
        "def pRisk(w, C):\n",
        "    return(np.sqrt(w.T*C*w).item())\n",
        "\n",
        "def pReturn(w, r):\n",
        "    return(w.T*r)\n",
        "\n",
        "##Sharpe Ratio\n",
        "\n",
        "def sharpe(rt, rsk, rf = 0.06):\n",
        "    return((rt - rf)/rsk)\n"
      ],
      "metadata": {
        "id": "1WfzSnd-R9lj"
      },
      "execution_count": null,
      "outputs": []
    },
    {
      "cell_type": "code",
      "source": [
        "C = returns_df.cov()\n",
        "annual_return = returns_df.sum()/5\n",
        "C = np.matrix(C)\n",
        "R = np.matrix(list(annual_return)).reshape(-1, 1)"
      ],
      "metadata": {
        "id": "rGOAUChDSEyp"
      },
      "execution_count": null,
      "outputs": []
    },
    {
      "cell_type": "code",
      "source": [
        "print(R)"
      ],
      "metadata": {
        "id": "eY743aSMRyO7"
      },
      "execution_count": null,
      "outputs": []
    },
    {
      "cell_type": "markdown",
      "source": [
        "# Implementating solutions of minimum risk and maximum sharpe ratio problems.\n",
        "Consider a portfolio of $n$ stocks with covariance matrix $C$ and return vector of individual stock is $R$. Then, \\\\\n",
        "\n",
        "Minimum risk problem: $\\min_{w, \\lambda}\\{\\frac{1}{2}w^T*C*w + \\lambda(w^T*e - 1)\\}$ \\\\\n",
        ",where $e$ is column vector of $1$'s with size $n$. \\\\\n",
        "Solution: $w* = \\frac{C^{-1}*e}{e^T*C^{-1}*e}$ \\\\\n",
        "\n",
        "Maximum sharpe ratio problem: $\\max_{w}\\{\\frac{w^T*R - r_f}{\\sqrt{w^T*C*w}}\\}$ \\\\\n",
        ",where $r_f$ is risk-free rate. \\\\\n",
        "Solution: $w* = \\frac{C^{-1}*(R - r_fe)}{e^T*C^{-1}*(R - r_fe)}$ \\\\\n"
      ],
      "metadata": {
        "id": "ZCbzF7grilOy"
      }
    },
    {
      "cell_type": "code",
      "source": [
        "############### Min risk weight w_min = C^(-1)*e/(e.T*C^(-1)*e)\n",
        "n = len(stocks)\n",
        "e = np.ones((n,1))\n",
        "\n",
        "w_min = np.linalg.inv(C)*e/(e.T*np.linalg.inv(C)*e)\n",
        "risk_min = pRisk(w_min, C)\n",
        "return_min = (w_min.T*R).item()\n",
        "\n",
        "\n",
        "############### Maximum Sharpe ratio weight w_max = C^(-1)*(r - rf*e)/(e.T*C^(-1)*(r - rf*e))\n",
        "rf = 0.06\n",
        "w_max = np.linalg.inv(C)*(R - rf*e)/(e.T*np.linalg.inv(C)*(R - rf*e))\n",
        "\n",
        "risk_max = pRisk(w_max, C)\n",
        "return_max = (w_max.T*R).item()\n",
        "max_sharpe_ratio = (return_max - rf)/risk_max"
      ],
      "metadata": {
        "id": "J6so9cFWTkdf"
      },
      "execution_count": null,
      "outputs": []
    },
    {
      "cell_type": "code",
      "source": [
        "print(w_max)\n",
        "print(risk_min, \"\\n\\n\",max_sharpe_ratio)"
      ],
      "metadata": {
        "id": "vhnKabUlRCDV"
      },
      "execution_count": null,
      "outputs": []
    },
    {
      "cell_type": "code",
      "source": [
        "import random\n",
        "def generate_random_weights(n, N=10):\n",
        "    Wgt = []\n",
        "\n",
        "    for i in range(N):\n",
        "        while True:\n",
        "            w = [random.uniform(-1, 1) for _ in range(n)]\n",
        "            w = [wi/sum(w) for wi in w]\n",
        "            # Check if all normalized weights are within bounds\n",
        "            if all(x > -3 and x < 3 for x in w):\n",
        "                break\n",
        "        Wgt.append(w)\n",
        "\n",
        "    return Wgt\n",
        "\n",
        "n = len(stocks)\n",
        "Wg = np.matrix(generate_random_weights(n, N=10))\n",
        "\n",
        "rsk = [pRisk(w.T, C) for w in Wg]\n",
        "rt  = [pReturn(w.T, R) for w in Wg]\n",
        "sr = [sharpe(a, b) for (a, b) in zip(rt, rsk)]\n",
        "#print(len(rsk), len(rt), len(sr))"
      ],
      "metadata": {
        "id": "hd1a4yb_O0KH"
      },
      "execution_count": null,
      "outputs": []
    },
    {
      "cell_type": "code",
      "source": [
        "import matplotlib.pyplot as plt\n",
        "plt.scatter(rsk,rt,color = 'orange', marker = 'o', linewidth = .3)\n",
        "Wg = np.matrix(generate_random_weights(n, N=10000))\n",
        "\n",
        "rsk = [pRisk(w.T, C) for w in Wg]\n",
        "rt  = [(w*R).item() for w in Wg]\n",
        "sr = [sharpe(a, b) for (a, b) in zip(rt, rsk)]\n",
        "###Minimum Risk and maximum Sharpe ratio point\n",
        "min_risk_idx = np.argmin(rsk)\n",
        "\n",
        "x_min = rsk[min_risk_idx]\n",
        "y_min = rt[min_risk_idx]\n",
        "\n",
        "max_sr_idx = np.argmax([sharpe(rt1,rsk1) for (rt1,rsk1) in zip(rt,rsk)])\n",
        "\n",
        "x_msr = rsk[max_sr_idx]\n",
        "y_msr = rt[max_sr_idx]\n",
        "\n",
        "plt.scatter(x_min,y_min,color='blue', marker = '*', linewidth = 2)\n",
        "plt.scatter(x_msr,y_msr,color='blue', marker = '*', linewidth = 2)\n",
        "plt.scatter(risk_min,return_min,color='green', marker = 'o', linewidth = 1)\n",
        "plt.scatter(risk_max,return_max,color='green', marker = 's', linewidth = 1)\n",
        "\n",
        "\n",
        "###Individual securities portfolio\n",
        "rsk_individual = np.sqrt(C.diagonal())\n",
        "rt_individual = annual_return\n",
        "plt.scatter(list(rsk_individual), list(rt_individual), color='black', marker = 'x', linewidth = 1)\n",
        "plt.show()"
      ],
      "metadata": {
        "id": "ralO2OOSPc2r"
      },
      "execution_count": null,
      "outputs": []
    },
    {
      "cell_type": "code",
      "source": [
        "\n",
        "##CAPM\n",
        "# This works when we have index data\n",
        "# rf = 0.06\n",
        "# beta = C[0:(n-1),(n-1)]/C[(n-1), (n-1)]\n",
        "# rm = annual_return[0,(n-1)]\n",
        "# r = rf + beta*(rm - rf)\n",
        "\n",
        "\n",
        "\n",
        "#To exclude index data for later analysis\n",
        "# n = n-1\n",
        "# C = C[0:n,0:n]\n",
        "# R = R[0:n]\n",
        "## Hw: Complete this part: Compute r using CAPM and then solve max sharpe problem\n",
        "## HW:"
      ],
      "metadata": {
        "id": "qVJuKl5mokXO"
      },
      "execution_count": null,
      "outputs": []
    },
    {
      "cell_type": "markdown",
      "source": [
        "# General portfolio optimization with inequility constrained.\n",
        "\n",
        "Problem: $\\min_{w}\\{\\frac{1}{2}w^T*C*w + f*w^T \\}$, such that $A*w \\le b$"
      ],
      "metadata": {
        "id": "FvSJ6hQjo7KV"
      }
    },
    {
      "cell_type": "code",
      "source": [
        "## Quadratic Optimization using CVXOPT\n",
        "from cvxopt import matrix, solvers\n",
        "import numpy as np\n",
        "\n",
        "# Keep original numpy copy\n",
        "C2 = C.copy()\n",
        "\n",
        "# Portfolio Optimization:\n",
        "C = matrix(C)\n",
        "q = matrix(np.zeros(n))\n",
        "\n",
        "#Contrains:\n",
        "# (1) w1 + w2 + ... + wn <= 1\n",
        "# (2) -w1 - w2 - ... - wn <= -1\n",
        "# (3) -r1*w1 - r2*w2 - ... - rn*wn <= -rf\n",
        "# (4) -w1 + 0*w2 + ... + 0*wn <= 0 [[[w1 >=0 => -w1 <= 0]]\n",
        "# (5) 0*w1 - w2 + ... + 0*wn <= 0\n",
        "# ....\n",
        "# (n+3) 0*w1 + 0*w2 + ... - wn <= 0\n",
        "A = np.ones(shape = (n+3, n))\n",
        "A[1, 0:n] = - A[1, 0:n]\n",
        "A[2, 0:n] = - R.T\n",
        "A[3:(n+3), 0:n] = - np.matrix(np.identity(n))\n",
        "# A = np.delete(A, 1, axis = 0) # This is to remove full allocation condition\n",
        "\n",
        "A = matrix(A) # Matrix A in notes\n",
        "b = matrix([1, -1, -rf] +  np.zeros(n).tolist()) # vector b in notes\n",
        "\n",
        "Sol = solvers.qp(C, q, A, b)\n",
        "\n",
        "w = list(Sol['x'])"
      ],
      "metadata": {
        "id": "2JxGKjY24F1E"
      },
      "execution_count": null,
      "outputs": []
    },
    {
      "cell_type": "code",
      "source": [
        "print(w, R)"
      ],
      "metadata": {
        "id": "CojtuGhghhsA"
      },
      "execution_count": null,
      "outputs": []
    },
    {
      "cell_type": "code",
      "source": [
        "print(\"Optimal allocation for constrained optimization: \\n\",w, \"\\n\")\n",
        "print(\"Optimal allocation for without constrained optimization:\\n\",w_min, \"\\n\")\n",
        "w = np.matrix(w).reshape(-1, 1)\n",
        "minrisk = np.sqrt(w.T*C2*w).item()\n",
        "print(\"Risk with constrained problem:\",minrisk, \"\\nRisk without contrained:      \",risk_min)\n",
        "print(\"\\nSharpe ratio for constrained optimization: \\n\",\n",
        "      sharpe(pReturn(w, R), pRisk(w, C2)).item(), \"\\n\")\n",
        "print(\"Maximum Sharpe ratio for  uncontrained problem: \\n\",\n",
        "      max_sharpe_ratio, \"\\n\")"
      ],
      "metadata": {
        "id": "YsSRtYq0_fWZ"
      },
      "execution_count": null,
      "outputs": []
    },
    {
      "cell_type": "markdown",
      "source": [
        "# Balck-litterman model"
      ],
      "metadata": {
        "id": "TC1uKkxyqQ07"
      }
    },
    {
      "cell_type": "code",
      "source": [
        "print(R,\"\\n\\n\", C2)\n",
        "# Following example is of four securities. So we are adjusting weghts and returns by removing last row and column\n",
        "C2 = np.delete(np.delete(C2, 4, axis = 0), 4, axis = 1)\n",
        "n = n-1\n",
        "R = R[0:n]\n",
        "print(\"\\n\\nAfter removing:\\n\",R,\"\\n\\n\", C2)\n"
      ],
      "metadata": {
        "id": "AtiKs1faTn9e"
      },
      "execution_count": null,
      "outputs": []
    },
    {
      "cell_type": "code",
      "source": [
        "# Black-litterman Model:\n",
        "# Investors views: (1) r3 >= r1 + r2 --> -r1 -r2 +r3 +0r4 >= 0 (5% pecent uncertainity)\n",
        "# (2) r4 >= (r1 + r2 + r3)/3 --> -r1 -r2 -r3 +3r4 >= 0 (10% uncertainity)\n",
        "# (3) r1 >= 0.10 --> r1 0r2 +0r3 +0r4 >= 0.10 (5% uncertainity)\n",
        "# (4) r4 <= 1 --> 0r1 +0r2 +0r3 -r4 >= -1 (20% uncertainity)\n",
        "\n",
        "P = np.matrix([[-1, -1, 1, 0],[-1, -1, -1, 3],[1, 0, 0, 0],[0, 0, 0, -1]])\n",
        "Q = np.matrix([0, 0, 0.1, -1]).T\n",
        "Omega = np.diag([0.05, 0.10, 0.05, 0.20])\n",
        "tau = 1 # Please find the find appropriate value of tau from tutorial\n",
        "C1 = np.linalg.inv(np.linalg.inv(tau*C2) + P.T*np.linalg.inv(Omega)*P )\n",
        "M = C2 + C1 # Expected covariance: C2 is historical\n",
        "\n",
        "# ER = np.matmul(C1,(np.linalg.inv(tau*C2)*rf + P.T*np.linalg.inv(Omega)*Q)) #Expected returns\n",
        "\n",
        "\n",
        "# Solve above portfolio optimization using Black-litterman model:\n",
        "##Replace r with ER and C with M in above optimization problem\n",
        "C = matrix(M)\n",
        "f = matrix(np.zeros(n))\n",
        "A = np.ones(shape = (n+3, n))\n",
        "A[1, 0:n] = - A[1, 0:n]\n",
        "\n",
        "ER = np.array(R).reshape(-1, 1) # Replace this with ER\n",
        "A[2, 0:n] = - ER.T\n",
        "A[3:(n+3), 0:n] = - np.matrix(np.identity(n))\n",
        "\n",
        "A = matrix(A)\n",
        "b = matrix([1, -1, -rf] +  np.zeros(n).tolist())\n",
        "\n",
        "Sol = solvers.qp(C, f, A, b)\n",
        "w = np.matrix(list(Sol['x'])).T\n",
        "print(w)\n",
        "minrisk = np.sqrt(w.T*C2*w).item()\n",
        "print(\"Risk with Black-litterman model:\",minrisk, \"\\nRisk without contrained:        \",risk_min)"
      ],
      "metadata": {
        "id": "YULIqR438ToG"
      },
      "execution_count": null,
      "outputs": []
    }
  ]
}